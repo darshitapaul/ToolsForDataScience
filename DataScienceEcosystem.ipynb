{
 "cells": [
  {
   "cell_type": "markdown",
   "id": "56b3d94f-ecbe-48af-8ee6-c687db9021ef",
   "metadata": {},
   "source": [
    "# Data Science Tools and Ecosystem"
   ]
  },
  {
   "cell_type": "markdown",
   "id": "0888b134-70b8-4790-9aff-3df56074d5ee",
   "metadata": {},
   "source": [
    "In this notebook, Data Science Tools and Ecosytem are summarised."
   ]
  },
  {
   "cell_type": "markdown",
   "id": "55d2e232-df1a-4997-a291-b79c324bf116",
   "metadata": {},
   "source": [
    "**Objectives:**\n",
    "- list popular languages for data science\n",
    "- list commonly used libraries by data scientists\n",
    "- list some data science tools\n",
    "- calculate simple arithmetic expressions\n"
   ]
  },
  {
   "cell_type": "markdown",
   "id": "cd0b057c-f9f3-4827-9352-ba37690cc484",
   "metadata": {},
   "source": [
    "Some of the popular languages Data Scientists use are:\n",
    "1) Python\n",
    "2) R\n",
    "3) SQL"
   ]
  },
  {
   "cell_type": "markdown",
   "id": "49ca54c8-77b4-4615-aed6-f2b690708413",
   "metadata": {},
   "source": [
    "Some of the commonly used libraries used by Data Scientists include:\n",
    "1) pandas\n",
    "2) numpy\n",
    "3) matplotlib"
   ]
  },
  {
   "cell_type": "markdown",
   "id": "cc2fbe74-25ab-4864-bff8-22af7faf518a",
   "metadata": {},
   "source": [
    "| Data Science Tools |\n",
    "|---------------------|\n",
    "| Jupyter Notebook    |\n",
    "| RStudio             |\n",
    "| Apache Zeppelin     |\n"
   ]
  },
  {
   "cell_type": "markdown",
   "id": "c18612db-4eda-48c1-a148-32ac0c8a828a",
   "metadata": {},
   "source": [
    "### Below are a few examples of evaluating arithmetic expressions in Python."
   ]
  },
  {
   "cell_type": "code",
   "execution_count": 1,
   "id": "5d9010e7-7135-4d75-ab11-2926dbea8c03",
   "metadata": {},
   "outputs": [
    {
     "data": {
      "text/plain": [
       "17"
      ]
     },
     "execution_count": 1,
     "metadata": {},
     "output_type": "execute_result"
    }
   ],
   "source": [
    "# This a simple arithmetic expression to mutiply then add integers\n",
    "\n",
    "(3*4)+5"
   ]
  },
  {
   "cell_type": "code",
   "execution_count": 2,
   "id": "9f41fb72-ebbf-4d8e-8e94-68350d3775c8",
   "metadata": {},
   "outputs": [
    {
     "data": {
      "text/plain": [
       "3.3333333333333335"
      ]
     },
     "execution_count": 2,
     "metadata": {},
     "output_type": "execute_result"
    }
   ],
   "source": [
    "# This will convert 200 minutes to hours by dividing by 60.\n",
    "\n",
    "hours = 200/60\n",
    "hours"
   ]
  },
  {
   "cell_type": "markdown",
   "id": "dafb8966-ca02-4b0d-be4a-4fb5e7534a52",
   "metadata": {},
   "source": [
    "## Author\n",
    "Darshita"
   ]
  },
  {
   "cell_type": "code",
   "execution_count": null,
   "id": "b2a5abc3-8313-4a3c-be90-e913f73004f9",
   "metadata": {},
   "outputs": [],
   "source": []
  }
 ],
 "metadata": {
  "kernelspec": {
   "display_name": "Python [conda env:ToolsForDataScience]",
   "language": "python",
   "name": "conda-env-ToolsForDataScience-py"
  },
  "language_info": {
   "codemirror_mode": {
    "name": "ipython",
    "version": 3
   },
   "file_extension": ".py",
   "mimetype": "text/x-python",
   "name": "python",
   "nbconvert_exporter": "python",
   "pygments_lexer": "ipython3",
   "version": "3.13.5"
  }
 },
 "nbformat": 4,
 "nbformat_minor": 5
}
